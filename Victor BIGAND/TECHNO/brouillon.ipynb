{
 "cells": [
  {
   "cell_type": "code",
   "execution_count": 14,
   "metadata": {},
   "outputs": [],
   "source": [
    "import numpy as np\n",
    "import matplotlib.pyplot as plt\n",
    "\n",
    "%matplotlib ipympl\n",
    "\n",
    "plt.rc('text', usetex=True)\n",
    "plt.rc('font', family='serif')\n",
    "plt.rcParams[\"figure.figsize\"] = (12,4)"
   ]
  },
  {
   "cell_type": "code",
   "execution_count": 3,
   "metadata": {},
   "outputs": [],
   "source": [
    "import torch\n",
    "from loading_data import TechnoDataset\n",
    "\n",
    "dataset = TechnoDataset(\"../../Victor BIGAND/TECHNO/techno_resampled.dat\")\n",
    "\n",
    "valid_ratio = 0.9995\n",
    "# Load the dataset for the training/validation sets\n",
    "train_valid_dataset =  dataset\n",
    "# Split it into training and validation sets\n",
    "nb_train = int((1.0 - valid_ratio) * len(train_valid_dataset) +1)\n",
    "nb_valid =  int(valid_ratio * len(train_valid_dataset))\n",
    "\n",
    "train_dataset, valid_dataset = torch.utils.data.dataset.random_split(train_valid_dataset, [nb_train, nb_valid])\n",
    "\n",
    "\n",
    "# Prepare \n",
    "num_threads = 0     # Loading the dataset is using 4 CPU threads\n",
    "batch_size  = 2   # Using minibatches of 128 samples\n",
    "train_loader = torch.utils.data.DataLoader(dataset=train_dataset, batch_size=batch_size, num_workers=num_threads)\n",
    "valid_loader = torch.utils.data.DataLoader(dataset=valid_dataset, batch_size=batch_size, shuffle=False, num_workers=num_threads)"
   ]
  },
  {
   "cell_type": "code",
   "execution_count": 62,
   "metadata": {},
   "outputs": [
    {
     "name": "stdout",
     "output_type": "stream",
     "text": [
      "32768\n"
     ]
    }
   ],
   "source": [
    "import math as m\n",
    "for i, x in enumerate(train_loader) :\n",
    "    Nsig = x.shape[2]\n",
    "    Nwin = 1024\n",
    "    Nfft = Nwin\n",
    "    Nhop = int(0.25*Nwin)\n",
    "\n",
    "    L = int((Nsig - Nwin + Nhop)/Nhop)\n",
    "    if Nfft & 2 == 0 : #si pair\n",
    "        I = int(Nfft/2 + 1)\n",
    "    else: #si impair\n",
    "        I = int((Nfft-1)/2 + 1)\n",
    "\n",
    "    print(I,L)\n",
    "\n",
    "    STFT = torch.stft(x[i,0,:], n_fft=Nfft, win_length=Nwin, window=torch.hamming_window(Nwin), hop_length=Nhop, return_complex=True, center=False)\n",
    "\n",
    "    fig = plt.figure()\n",
    "    ax1 = fig.add_subplot(111)\n",
    "\n",
    "    img = ax1.imshow(np.abs(STFT),\n",
    "        #cmap=cmap ,\n",
    "        interpolation = \"bilinear\",\n",
    "        aspect=\"auto\" ,\n",
    "        origin=\"lower\")\n",
    "\n",
    "    fig.tight_layout()\n",
    "\n",
    "    print(STFT.shape)\n",
    "    break"
   ]
  },
  {
   "cell_type": "code",
   "execution_count": null,
   "metadata": {},
   "outputs": [],
   "source": [
    "from torch import nn\n",
    "\n",
    "def Spectral_Loss(x, y, Nfft=512, Nwin=512, window=\"Hamming\", Nhop = Nwin//4, epsilon = 1, device = \"cpu\"):\n",
    "    Nsig = x.shape[2]\n",
    "    batch_size = x.shape[0]\n",
    "\n",
    "    L = int((Nsig - Nwin + Nhop)/Nhop)\n",
    "\n",
    "    if Nfft % 2 == 0 : #si pair\n",
    "        I = int(Nfft/2 + 1)\n",
    "    else :\n",
    "        I = int((Nfft-1)/2+1)\n",
    "        \n",
    "    if window==\"Hamming\":\n",
    "        window = torch.hamming_window(Nwin)\n",
    "    if window==\"Hanning\":\n",
    "        window = torch.hann_window(Nwin)\n",
    "\n",
    "    lX = torch.zeros([batch_size, I, L], dtype=torch.cfloat)\n",
    "    lY = torch.zeros([batch_size, I, L], dtype=torch.cfloat)\n",
    "\n",
    "    for i, x_sample in enumerate(x) :\n",
    "        X_xample = torch.stft(x_sample, Nfft, win_length=Nwin, window=window, hop_length=Nhop, return_complex=True, center=False) #, center=True, pad_mode='reflect', normalized=False, onesided=None, return_complex=None\n",
    "        lX_sample = torch.log(torch.abs(X_xample)**2 + epsilon)\n",
    "        lX[i] = lX_sample\n",
    "\n",
    "    for i, y_sample in enumerate(y):\n",
    "        Y_xample = torch.stft(y_sample, Nfft, win_length=Nwin, window=window, hop_length=Nhop, return_complex=True, center=False) #, center=True, pad_mode='reflect', normalized=False, onesided=None, return_complex=None\n",
    "        lY_sample = torch.log(torch.abs(Y_xample)**2 + epsilon)\n",
    "        lY[i] = lY_sample\n",
    "\n",
    "\n",
    "    recons_criterion = nn.L1Loss(reduction=\"none\")\n",
    "    spectral_loss = np.sum(np.mean(recons_criterion(lX,lY),axis=0))\n",
    "\n",
    "    return spectral_loss"
   ]
  }
 ],
 "metadata": {
  "interpreter": {
   "hash": "397704579725e15f5c7cb49fe5f0341eb7531c82d19f2c29d197e8b64ab5776b"
  },
  "kernelspec": {
   "display_name": "Python 3.9.13 64-bit",
   "language": "python",
   "name": "python3"
  },
  "language_info": {
   "codemirror_mode": {
    "name": "ipython",
    "version": 3
   },
   "file_extension": ".py",
   "mimetype": "text/x-python",
   "name": "python",
   "nbconvert_exporter": "python",
   "pygments_lexer": "ipython3",
   "version": "3.9.13"
  },
  "orig_nbformat": 4
 },
 "nbformat": 4,
 "nbformat_minor": 2
}
